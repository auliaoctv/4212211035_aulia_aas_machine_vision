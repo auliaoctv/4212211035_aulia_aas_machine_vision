{
  "cells": [
    {
      "cell_type": "markdown",
      "metadata": {
        "id": "view-in-github",
        "colab_type": "text"
      },
      "source": [
        "<a href=\"https://colab.research.google.com/github/auliaoctv/4212211035_aulia_aas_machine_vision/blob/main/4212211035_aas_machine_vision.ipynb\" target=\"_parent\"><img src=\"https://colab.research.google.com/assets/colab-badge.svg\" alt=\"Open In Colab\"/></a>"
      ]
    },
    {
      "cell_type": "code",
      "source": [
        "import pandas as pd\n",
        "import torch\n",
        "import numpy as np\n",
        "from torchvision import transforms, models\n",
        "from torch.utils.data import Dataset, DataLoader\n",
        "from torch import nn, optim\n",
        "from PIL import Image\n",
        "from sklearn.metrics import confusion_matrix, accuracy_score, precision_score, f1_score\n",
        "from tqdm import tqdm"
      ],
      "metadata": {
        "id": "HfBfy-0zl4EZ"
      },
      "execution_count": 1,
      "outputs": []
    },
    {
      "cell_type": "code",
      "source": [
        "pTrain = pd.read_csv('/content/emnist-mnist-train.csv', header=None, nrows=500)\n",
        "pTest = pd.read_csv('/content/emnist-mnist-test.csv', header=None, nrows=500)"
      ],
      "metadata": {
        "id": "Osq70zoq0WCV"
      },
      "execution_count": 2,
      "outputs": []
    },
    {
      "cell_type": "code",
      "source": [
        "def pSourceImage(data):\n",
        "      data = np.clip(data, 0, 255).astype(np.uint8).reshape(28, 28)\n",
        "      return Image.fromarray(data).convert(\"RGB\")"
      ],
      "metadata": {
        "id": "IbbVX0vtqyVX"
      },
      "execution_count": 3,
      "outputs": []
    },
    {
      "cell_type": "code",
      "source": [
        "class CustomDataset(Dataset):\n",
        "  def __init__ (self, dataframe, transform=None):\n",
        "    self.dataframe = dataframe\n",
        "    self.transform = transform\n",
        "  def __len__(self):\n",
        "    return len(self.dataframe)\n",
        "  def __getitem__(self, idx):\n",
        "    label = self.dataframe.iloc[idx, 0]\n",
        "    img_data = self.dataframe.iloc[idx, 1:].values\n",
        "    image = pSourceImage(img_data)\n",
        "    if self.transform:\n",
        "      image = self.transform(image)\n",
        "    return image, label\n",
        "  transform = transforms.Compose([\n",
        "  transforms.Resize((224, 224)),\n",
        "  transforms.ToTensor()\n",
        "  ])\n"
      ],
      "metadata": {
        "id": "NQxAO3sQrTft"
      },
      "execution_count": 4,
      "outputs": []
    },
    {
      "cell_type": "code",
      "source": [
        "pDatasetTrain = CustomDataset(pTrain, transform=CustomDataset.transform)\n",
        "pDatasetVal = CustomDataset(pTest, transform=CustomDataset.transform)\n",
        "\n",
        "pLoaderTrain = DataLoader(pDatasetTrain, batch_size=4, shuffle=True) # Training data loader\n",
        "pLoaderVal = DataLoader(pDatasetVal, batch_size=4, shuffle=False) # Validation data loader"
      ],
      "metadata": {
        "id": "2sqCeecNNbGr"
      },
      "execution_count": 5,
      "outputs": []
    },
    {
      "cell_type": "code",
      "source": [
        "model = models.alexnet(pretrained=True)\n",
        "model.classifier[6] = nn.Linear(4096, 200)\n"
      ],
      "metadata": {
        "id": "-i4-XcGpOGek",
        "outputId": "3e88d375-0e83-4e84-aaaf-d6271b8382b4",
        "colab": {
          "base_uri": "https://localhost:8080/"
        }
      },
      "execution_count": 6,
      "outputs": [
        {
          "output_type": "stream",
          "name": "stderr",
          "text": [
            "/usr/local/lib/python3.11/dist-packages/torchvision/models/_utils.py:208: UserWarning: The parameter 'pretrained' is deprecated since 0.13 and may be removed in the future, please use 'weights' instead.\n",
            "  warnings.warn(\n",
            "/usr/local/lib/python3.11/dist-packages/torchvision/models/_utils.py:223: UserWarning: Arguments other than a weight enum or `None` for 'weights' are deprecated since 0.13 and may be removed in the future. The current behavior is equivalent to passing `weights=AlexNet_Weights.IMAGENET1K_V1`. You can also use `weights=AlexNet_Weights.DEFAULT` to get the most up-to-date weights.\n",
            "  warnings.warn(msg)\n",
            "Downloading: \"https://download.pytorch.org/models/alexnet-owt-7be5be79.pth\" to /root/.cache/torch/hub/checkpoints/alexnet-owt-7be5be79.pth\n",
            "100%|██████████| 233M/233M [00:01<00:00, 123MB/s]\n"
          ]
        }
      ]
    },
    {
      "cell_type": "code",
      "source": [
        "for param in model.features.parameters():\n",
        "  param.requires_grad = False"
      ],
      "metadata": {
        "id": "ADQCxsKBOviP"
      },
      "execution_count": 7,
      "outputs": []
    },
    {
      "cell_type": "code",
      "source": [
        "criterion = nn.CrossEntropyLoss()\n",
        "optimizer = optim.Adam(model.parameters(), lr=0.0001)\n"
      ],
      "metadata": {
        "id": "bfKP9INdO0_p"
      },
      "execution_count": 8,
      "outputs": []
    },
    {
      "cell_type": "code",
      "source": [
        "device = torch.device('cuda' if torch.cuda.is_available() else 'cpu')\n",
        "model.to(device)\n"
      ],
      "metadata": {
        "collapsed": true,
        "id": "ShYffP2OO4U6",
        "outputId": "2c09e6b5-bf37-4001-92ff-17a31f641486",
        "colab": {
          "base_uri": "https://localhost:8080/"
        }
      },
      "execution_count": 9,
      "outputs": [
        {
          "output_type": "execute_result",
          "data": {
            "text/plain": [
              "AlexNet(\n",
              "  (features): Sequential(\n",
              "    (0): Conv2d(3, 64, kernel_size=(11, 11), stride=(4, 4), padding=(2, 2))\n",
              "    (1): ReLU(inplace=True)\n",
              "    (2): MaxPool2d(kernel_size=3, stride=2, padding=0, dilation=1, ceil_mode=False)\n",
              "    (3): Conv2d(64, 192, kernel_size=(5, 5), stride=(1, 1), padding=(2, 2))\n",
              "    (4): ReLU(inplace=True)\n",
              "    (5): MaxPool2d(kernel_size=3, stride=2, padding=0, dilation=1, ceil_mode=False)\n",
              "    (6): Conv2d(192, 384, kernel_size=(3, 3), stride=(1, 1), padding=(1, 1))\n",
              "    (7): ReLU(inplace=True)\n",
              "    (8): Conv2d(384, 256, kernel_size=(3, 3), stride=(1, 1), padding=(1, 1))\n",
              "    (9): ReLU(inplace=True)\n",
              "    (10): Conv2d(256, 256, kernel_size=(3, 3), stride=(1, 1), padding=(1, 1))\n",
              "    (11): ReLU(inplace=True)\n",
              "    (12): MaxPool2d(kernel_size=3, stride=2, padding=0, dilation=1, ceil_mode=False)\n",
              "  )\n",
              "  (avgpool): AdaptiveAvgPool2d(output_size=(6, 6))\n",
              "  (classifier): Sequential(\n",
              "    (0): Dropout(p=0.5, inplace=False)\n",
              "    (1): Linear(in_features=9216, out_features=4096, bias=True)\n",
              "    (2): ReLU(inplace=True)\n",
              "    (3): Dropout(p=0.5, inplace=False)\n",
              "    (4): Linear(in_features=4096, out_features=4096, bias=True)\n",
              "    (5): ReLU(inplace=True)\n",
              "    (6): Linear(in_features=4096, out_features=200, bias=True)\n",
              "  )\n",
              ")"
            ]
          },
          "metadata": {},
          "execution_count": 9
        }
      ]
    },
    {
      "cell_type": "code",
      "source": [
        "from sklearn.model_selection import LeaveOneOut\n",
        "from sklearn.metrics import confusion_matrix, accuracy_score, precision_score, f1_score\n",
        "\n",
        "pTrainArray = pTrain.to_numpy()\n",
        "\n",
        "pAllPreds, pAllLabels = [], []"
      ],
      "metadata": {
        "id": "4MDwNjmHO6eW"
      },
      "execution_count": 10,
      "outputs": []
    },
    {
      "cell_type": "code",
      "source": [
        "print(\"Leave-One-Out Cross Validation Started...\")\n",
        "\n",
        "loo = LeaveOneOut()\n",
        "for pIndexTrain, pIndexTest in tqdm(loo.split(pTrainArray)):\n",
        "\n",
        "  pSampleTrain = pTrainArray[pIndexTrain]\n",
        "  pSampleTest = pTrainArray[pIndexTest]\n",
        "\n",
        "  pDatasetTrain = CustomDataset(pd.DataFrame(pSampleTrain), transform=CustomDataset.transform)\n",
        "  pDatasetTest = CustomDataset(pd.DataFrame(pSampleTest), transform=CustomDataset.transform)\n",
        "\n",
        "  pLoaderTrain = DataLoader(pDatasetTrain, batch_size=4, shuffle=True)\n",
        "  pLoaderTest = DataLoader(pDatasetTest, batch_size=1, shuffle=False)\n",
        "\n",
        "  model = models.alexnet(pretrained=True)\n",
        "  model.classifier[6] = nn.Linear(4096, 200)\n",
        "  model.to(device)\n",
        "\n",
        "  criterion = nn.CrossEntropyLoss()\n",
        "  optimizer = optim.Adam(model.parameters(), lr=0.0001)\n",
        "\n",
        "  model.train()\n",
        "  for inputs, labels in pLoaderTrain:\n",
        "    inputs, labels = inputs.to(device), labels.to(device)\n",
        "    optimizer.zero_grad()\n",
        "    outputs = model(inputs)\n",
        "    loss = criterion(outputs, labels)\n",
        "    loss.backward()\n",
        "    optimizer.step()\n",
        "\n",
        "  model.eval()\n",
        "  with torch.no_grad():\n",
        "    for inputs, labels in pLoaderTest:\n",
        "      inputs, labels = inputs.to(device), labels.to(device)\n",
        "      outputs = model(inputs)\n",
        "      pAllPreds.append(torch.argmax(outputs, dim=1).cpu().item())\n",
        "      pAllLabels.append(labels.cpu().item())"
      ],
      "metadata": {
        "id": "ZdOaB5vDPWnY",
        "outputId": "38be0a10-5528-4739-c7d8-4dc83ed7d11e",
        "colab": {
          "base_uri": "https://localhost:8080/"
        }
      },
      "execution_count": 11,
      "outputs": [
        {
          "output_type": "stream",
          "name": "stdout",
          "text": [
            "Leave-One-Out Cross Validation Started...\n"
          ]
        },
        {
          "output_type": "stream",
          "name": "stderr",
          "text": [
            "200it [07:23,  2.22s/it]\n"
          ]
        }
      ]
    },
    {
      "cell_type": "code",
      "source": [
        "p_conf_matrix  = confusion_matrix(pAllLabels, pAllPreds)\n",
        "p_accuracy  = accuracy_score(pAllLabels, pAllPreds)\n",
        "p_precision  = precision_score(pAllLabels, pAllPreds, average=\"macro\", zero_division=0)\n",
        "p_f1 = f1_score(pAllLabels, pAllPreds, average=\"macro\")"
      ],
      "metadata": {
        "id": "fpXqOdgbRKzX"
      },
      "execution_count": 12,
      "outputs": []
    },
    {
      "cell_type": "code",
      "source": [
        "print(\"\\nEvaluation Results:\")\n",
        "print(f\"Confusion Matrix:\\n{p_conf_matrix }\")\n",
        "print(f\"Accuracy: {p_accuracy :.4f}\")\n",
        "print(f\"Precision: {p_precision :.4f}\")\n",
        "print(f\"F1-Score: {p_f1:.4f}\")"
      ],
      "metadata": {
        "id": "cEDBcEXPTv6m",
        "outputId": "9d5d6f1a-d84f-46cf-8ee7-6193c90d4bb5",
        "colab": {
          "base_uri": "https://localhost:8080/"
        }
      },
      "execution_count": 13,
      "outputs": [
        {
          "output_type": "stream",
          "name": "stdout",
          "text": [
            "\n",
            "Evaluation Results:\n",
            "Confusion Matrix:\n",
            "[[14  0  0  0  0  2  2  0  1  0]\n",
            " [ 0 21  0  0  1  0  0  1  0  0]\n",
            " [ 1  0  7  2  1  6  0  0  1  0]\n",
            " [ 1  0  4 13  0  3  0  0  0  0]\n",
            " [ 1  1  0  0 13  0  0  2  0  0]\n",
            " [ 0  0  4  5  0 13  0  0  2  1]\n",
            " [ 0  0  0  0  1  1 22  0  1  1]\n",
            " [ 0  1  0  0  1  0  0 16  0  0]\n",
            " [ 0  0  0  0  0  3  3  0 11  1]\n",
            " [ 0  0  1  0  2  1  0  0  2  9]]\n",
            "Accuracy: 0.6950\n",
            "Precision: 0.6975\n",
            "F1-Score: 0.6913\n"
          ]
        }
      ]
    },
    {
      "cell_type": "markdown",
      "source": [],
      "metadata": {
        "id": "2WGapcdul4ko"
      }
    }
  ],
  "metadata": {
    "colab": {
      "name": "Welcome To Colab",
      "provenance": [],
      "gpuType": "T4",
      "include_colab_link": true
    },
    "kernelspec": {
      "display_name": "Python 3",
      "name": "python3"
    },
    "accelerator": "GPU"
  },
  "nbformat": 4,
  "nbformat_minor": 0
}